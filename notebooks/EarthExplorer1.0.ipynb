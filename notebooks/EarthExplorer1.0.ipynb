{
 "cells": [
  {
   "cell_type": "code",
   "execution_count": null,
   "metadata": {},
   "outputs": [],
   "source": [
    "import requests\n",
    "import json\n",
    "import math\n",
    "import os\n",
    "import time\n",
    "from selenium import webdriver\n",
    "from selenium.common.exceptions import NoSuchElementException"
   ]
  },
  {
   "cell_type": "code",
   "execution_count": null,
   "metadata": {},
   "outputs": [],
   "source": [
    "#Dados para o login\n",
    "login = \"\"\n",
    "senha = \"\""
   ]
  },
  {
   "cell_type": "code",
   "execution_count": null,
   "metadata": {},
   "outputs": [],
   "source": [
    "defaultUrl = 'https://earthexplorer.usgs.gov/inventory/json/v/1.4.0/'\n",
    "operations = {'login': 'login',\n",
    "              'logout' : 'logout',\n",
    "              'datasetfields' : 'datasetfields',\n",
    "              'search' : 'search',\n",
    "              'download' : 'download'\n",
    "             }\n"
   ]
  },
  {
   "cell_type": "code",
   "execution_count": null,
   "metadata": {},
   "outputs": [],
   "source": [
    "def login(usr,pwd, catalog = 'EE'):\n",
    "    payload = {\"jsonRequest\" : '{\"username\":\"' + usr + '\",\"password\":\"' + pwd + '\",\"catalogId\":\"' + catalog + '\"}'}\n",
    "    response = requests.post(defaultUrl + operations['login'],data = payload)\n",
    "    if response.json()['errorCode'] is None:\n",
    "        return response.json()['data']\n",
    "    else:\n",
    "        print(\"Login inválido!\")\n",
    "        return None"
   ]
  },
  {
   "cell_type": "code",
   "execution_count": null,
   "metadata": {},
   "outputs": [],
   "source": [
    "def calculateMBR(point,radius):\n",
    "    coef = radius * 0.0000089;\n",
    "    ll = (point[0] - coef,point[1] - coef / math.cos(point[0] * 0.018))\n",
    "    ur = (point[0] + coef,point[1] + coef / math.cos(point[0] * 0.018))\n",
    "    return ll, ur"
   ]
  },
  {
   "cell_type": "code",
   "execution_count": null,
   "metadata": {},
   "outputs": [],
   "source": [
    "def sceneSearch(apiKey,point,radius,startDate,endDate,\n",
    "                dataSetName = \"SENTINEL_2A\", months = None,\n",
    "                includeUnknownCloudCover = True,maxResults = 1000, sortOrder = 'ASC'):\n",
    "    ll, ur = calculateMBR(point,radius)\n",
    "    payload = {\"jsonRequest\" : '{\"apiKey\":\"' + apiKey + '\",\"datasetName\":\"' + dataSetName + '\",\"spatialFilter\":{\"filterType\":\"mbr\",\"lowerLeft\":{\"latitude\":\"' + str(ll[0]) + '\",\"longitude\":\"' + str(ll[1]) + '\"},\"upperRight\":{\"latitude\":\"' + str(ur[0]) + '\",\"longitude\":\"' + str(ur[1]) + '\"}},\"temporalFilter\":{\"startDate\":\"' + startDate + '\",\"endDate\":\"' + endDate + '\"},'+( '' if months is None else '\"months\":' + str(months) + ',') + '\"includeUnknownCloudCover\":' + str(includeUnknownCloudCover).lower() + ',\"maxResults\":\"' + str(maxResults) + '\",\"sortOrder\":\"' + sortOrder + '\"}'}\n",
    "    response = requests.post(defaultUrl + operations['search'], data = payload)\n",
    "    return response.json()"
   ]
  },
  {
   "cell_type": "code",
   "execution_count": null,
   "metadata": {},
   "outputs": [],
   "source": [
    "def getScenesDict():\n",
    "    if not os.path.isfile('scenes.json'):\n",
    "        return json.loads('{}')\n",
    "    else:\n",
    "        with open('scenes.json','r') as jsonFile:\n",
    "            return json.load(jsonFile)"
   ]
  },
  {
   "cell_type": "code",
   "execution_count": null,
   "metadata": {},
   "outputs": [],
   "source": [
    "def downloadFile(downloadInfo,apiKey):\n",
    "    print(downloadInfo[1])\n",
    "    payload = '{\"apiKey\": \"' + apiKey +'\",\"datasetName\":\"SENTINEL_2A\",\"products\":\"' + downloadInfo[1] + '\",\"entityIds\":\"' + downloadInfo[2] + '\"}'\n",
    "    print(json.dumps(payload))\n",
    "    #magicUrl = 'https://earthexplorer.usgs.gov/download/10880/%s/STANDARD/' % downloadInfo[2]\n",
    "    magicUrl = defaultUrl +  operations['download']\n",
    "    print(magicUrl)\n",
    "    with requests.get(magicUrl, data=payload, stream=True, allow_redirects=True) as request:\n",
    "        #lança exceção caso request de errado\n",
    "        request.raise_for_status()\n",
    "        with open(downloadInfo[0] + '.zip', 'wb') as file:\n",
    "            for chunk in request.iter_content(chunk_size=1024): \n",
    "                file.write(chunk)\n",
    "        print(response.text)\n",
    "    return True;"
   ]
  },
  {
   "cell_type": "code",
   "execution_count": null,
   "metadata": {},
   "outputs": [],
   "source": [
    "def countDown(path):\n",
    "    dNumber = 0\n",
    "    for fname in os.listdir(path):\n",
    "        if fname.endswith('.crdownload'):\n",
    "            dNumber +=1\n",
    "    return dNumber"
   ]
  },
  {
   "cell_type": "code",
   "execution_count": null,
   "metadata": {},
   "outputs": [],
   "source": []
  },
  {
   "cell_type": "code",
   "execution_count": null,
   "metadata": {},
   "outputs": [],
   "source": [
    "def downloadBulk(lat,lon,radius,startDate,endDate,usr,psw,maxDownload = 1, driverPath = '/home/adrianoii/Repo/DesmateSeletivo/chromedriver',downloadPath ='/home/adrianoii/Repo/DesmateSeletivo'):\n",
    "    apiKey = login(usr,psw)\n",
    "    scenes = sceneSearch(apiKey,(lat,lon),radius,startDate,endDate)\n",
    "    scenesJsonDict = getScenesDict()\n",
    "    downloadList = []\n",
    "    pointStr = f'({str(lat)},{str(lon)})'\n",
    "    for foundScene in scenes['data']['results']:\n",
    "        if foundScene['displayId'] in scenesJsonDict.keys():\n",
    "            print(\"Imagem já baixada!\")\n",
    "            if pointStr not in scenesJsonDict[foundScene['displayId']]['points']:\n",
    "                print(\"Novo ponto!\")\n",
    "                scenesJsonDict[foundScene['displayId']]['points'].append(pointStr)\n",
    "        else:\n",
    "            downloadList.append((foundScene['displayId'],foundScene['downloadUrl'],foundScene['entityId']))\n",
    "    chromeOptions = webdriver.ChromeOptions()\n",
    "    prefs = {\"download.default_directory\" : downloadPath}\n",
    "    chromeOptions.add_experimental_option(\"prefs\",prefs)\n",
    "    driver = webdriver.Chrome(executable_path= driverPath, options=chromeOptions)\n",
    "    downloadsQueue = []\n",
    "    for download in downloadList:\n",
    "        numActualDownloads = countDown(downloadPath)\n",
    "        numBeforeDownloads =  numActualDownloads\n",
    "        if(numActualDownloads >= maxDownload):\n",
    "            print(countDown(downloadPath),maxDownload)\n",
    "            while ((numActualDownloads := countDown(downloadPath)) >= maxDownload):\n",
    "                time.sleep(10)\n",
    "            for downloadFile in downloadsQueue:\n",
    "                if os.path.isfile(downloadFile[\"displayId\"] + \".zip\"):\n",
    "                    downloadsQueue.remove(downloadFile)\n",
    "                else:\n",
    "                    clickToDownload(usr,psw,downloadFile[\"downloadUrl\"],driver)\n",
    "        clickToDownload(usr,psw,download[1],driver)\n",
    "        downloadsQueue.append({ \"displayId\" : download[0],\n",
    "                                \"downloadUrl\" : download[1]})\n",
    "        scenesJsonDict[download[0]] = {\"points\" : [pointStr],\n",
    "                                           \"startDate\" : startDate,\n",
    "                                           \"endDate\" : endDate,\n",
    "                                           \"downloadUrl\" : download[1]}\n",
    "    while len(downloadsQueue) > 0:\n",
    "        for downloadFile in downloadsQueue:\n",
    "            if os.path.isfile(downloadFile[\"displayId\"] + \".zip\"):\n",
    "                downloadsQueue.remove(downloadFile)\n",
    "            else:\n",
    "                clickToDownload(usr,psw,downloadFile[\"downloadUrl\"],driver)\n",
    "            time.sleep(30)\n",
    "    driver.close()\n",
    "    with open('scenes.json','w+') as jsonFile:\n",
    "        json.dump(scenesJsonDict,jsonFile)"
   ]
  },
  {
   "cell_type": "code",
   "execution_count": null,
   "metadata": {
    "scrolled": true
   },
   "outputs": [],
   "source": [
    "downloadBulk(-10.463815 ,-58.537751, 500,'2016-01-01','2017-01-01',login,senha)"
   ]
  },
  {
   "cell_type": "code",
   "execution_count": null,
   "metadata": {
    "scrolled": true
   },
   "outputs": [],
   "source": [
    "downloadBulk(-10.463815 ,-58.537751, 500,'2016-01-01','2016-02-01',login,senha)"
   ]
  },
  {
   "cell_type": "code",
   "execution_count": null,
   "metadata": {
    "scrolled": true
   },
   "outputs": [],
   "source": [
    "downloadBulk(-10.463815 ,-58.537751, 500,'2016-01-01','2016-01-07',login,senha)"
   ]
  },
  {
   "cell_type": "code",
   "execution_count": null,
   "metadata": {},
   "outputs": [],
   "source": [
    "def clickToDownload(usr,pwd,link,driver):\n",
    "    driver.get(link)\n",
    "    try:\n",
    "        login = driver.find_element_by_id('loginLink')\n",
    "    except NoSuchElementException:\n",
    "        print(\"Logado\")\n",
    "    else:\n",
    "        login.click()\n",
    "        driver.find_element_by_id('username').send_keys(usr)\n",
    "        driver.find_element_by_id('password').send_keys(pwd)\n",
    "        driver.find_element_by_id('loginButton').submit()\n",
    "    finally:\n",
    "        driver.find_element_by_xpath(\".//*[@title='Download this Product']\").click()"
   ]
  },
  {
   "cell_type": "code",
   "execution_count": null,
   "metadata": {},
   "outputs": [],
   "source": [
    "clickToDownload(login,senha\n",
    "                \n",
    "                ,\"https://earthexplorer.usgs.gov/download/external/options/SENTINEL_2A/1100852/INVSVC/\")"
   ]
  },
  {
   "cell_type": "code",
   "execution_count": null,
   "metadata": {},
   "outputs": [],
   "source": []
  }
 ],
 "metadata": {
  "kernelspec": {
   "display_name": "Python 3",
   "language": "python",
   "name": "python3"
  },
  "language_info": {
   "codemirror_mode": {
    "name": "ipython",
    "version": 3
   },
   "file_extension": ".py",
   "mimetype": "text/x-python",
   "name": "python",
   "nbconvert_exporter": "python",
   "pygments_lexer": "ipython3",
   "version": "3.8.5"
  }
 },
 "nbformat": 4,
 "nbformat_minor": 2
}
