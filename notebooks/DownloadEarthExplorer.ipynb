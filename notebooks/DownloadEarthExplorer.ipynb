{
 "cells": [
  {
   "cell_type": "code",
   "execution_count": null,
   "metadata": {},
   "outputs": [],
   "source": [
    "import requests\n",
    "import json\n",
    "import math\n",
    "import os\n",
    "import csv\n",
    "from collections import Counter\n",
    "from enum import Enum"
   ]
  },
  {
   "cell_type": "code",
   "execution_count": null,
   "metadata": {},
   "outputs": [],
   "source": [
    "username = 'login'\n",
    "senha = 'psw'"
   ]
  },
  {
   "cell_type": "code",
   "execution_count": null,
   "metadata": {},
   "outputs": [],
   "source": [
    "class Operations(Enum):\n",
    "    Login = 'login'\n",
    "    Logout = 'logout'\n",
    "    DatasetFields = 'datasetfields'\n",
    "    Search = 'search'\n",
    "    DownloadOptions = 'downloadoptions'\n",
    "    Download = 'download'\n",
    "    IdLookUp = 'idlookup'\n",
    "    MetaData = 'metadata'\n",
    "    UpdateBulk = 'updatebulkdownloadscene'\n",
    "    SubmitBulk = 'submitbulkdownloadorder'"
   ]
  },
  {
   "cell_type": "code",
   "execution_count": null,
   "metadata": {},
   "outputs": [],
   "source": [
    "'a' + Operations.Login.value"
   ]
  },
  {
   "cell_type": "code",
   "execution_count": null,
   "metadata": {},
   "outputs": [],
   "source": [
    "defaultUrl = 'https://earthexplorer.usgs.gov/inventory/json/v/1.4.0/'\n",
    "legacyUrl = 'https://earthexplorer.usgs.gov/inventory/json/v/1.4.0/'\n",
    "operations = {'login': 'login',\n",
    "              'logout' : 'logout',\n",
    "              'datasetfields' : 'datasetfields',\n",
    "              'search' : 'search',\n",
    "              'downloadoptions' : 'downloadoptions',\n",
    "              'download' : 'download',\n",
    "              'idlookup' : 'idlookup',\n",
    "              'metadata' : 'metadata',\n",
    "              'updateBulk' : 'updatebulkdownloadscene',\n",
    "              'submitBulk' : 'submitbulkdownloadorder'\n",
    "             }\n",
    "\n",
    "productTypes = {'full' : 'STANDARD',\n",
    "                'preview' : 'FRB'\n",
    "               }\n",
    "\n",
    "downloadIndexes = {'displayId' : 0,\n",
    "                   'downloadUrl' : 1,\n",
    "                   'entityId' : 2,\n",
    "                   'startTime' : 3,\n",
    "                   'endTime' : 4\n",
    "                  }"
   ]
  },
  {
   "cell_type": "code",
   "execution_count": null,
   "metadata": {},
   "outputs": [],
   "source": [
    "def login(usr,pwd, catalog = 'EE'):\n",
    "    payload = {\"jsonRequest\" : '{\"username\":\"' + usr + '\",\"password\":\"' + pwd + '\",\"catalogId\":\"' + catalog + '\"}'}\n",
    "    response = requests.post(defaultUrl + operations['login'],data = payload)\n",
    "    if response.json()['errorCode'] is None:\n",
    "        return response.json()['data']\n",
    "    else:\n",
    "        print(\"Login inválido!\")\n",
    "        return None"
   ]
  },
  {
   "cell_type": "code",
   "execution_count": null,
   "metadata": {},
   "outputs": [],
   "source": [
    "def logout(apiKey):\n",
    "    payload = {\"jsonRequest\" : '{\"apiKey\":\"' + apiKey+ '\"}'}\n",
    "    return requests.post(defaultUrl + operations['logout'],data=payload).json()['data']"
   ]
  },
  {
   "cell_type": "code",
   "execution_count": null,
   "metadata": {},
   "outputs": [],
   "source": [
    "def calculateMBR(point,radius):\n",
    "    coef = radius * 0.0000089;\n",
    "    ll = (point[0] - coef,point[1] - coef / math.cos(point[0] * 0.018))\n",
    "    ur = (point[0] + coef,point[1] + coef / math.cos(point[0] * 0.018))\n",
    "    return ll, ur"
   ]
  },
  {
   "cell_type": "code",
   "execution_count": null,
   "metadata": {},
   "outputs": [],
   "source": [
    "def updateBulk(apiKey, downloadCodes, entityId, dataSetName = \"SENTINEL_2A\"):\n",
    "    payload = {\"jsonRequest\" : '{\"apiKey\":\"' + apiKey + '\",\"datasetName\":\"' + dataSetName + '\",\"downloadCodes\":'+ downloadCodes +',\"entityId\":' + entityId + '}'}\n",
    "    return requests.post(defaultUrl + operations['updateBulk'],data=payload).json()"
   ]
  },
  {
   "cell_type": "code",
   "execution_count": null,
   "metadata": {},
   "outputs": [],
   "source": [
    "updateBulk('db000f703052452ab43057bf0b764807','[\"' +productTypes['full'] + '\",\"' + productTypes['preview'] + '\"]','1100852')"
   ]
  },
  {
   "cell_type": "code",
   "execution_count": null,
   "metadata": {},
   "outputs": [],
   "source": [
    "updateBulk('db000f703052452ab43057bf0b764807','[\"' +productTypes['full'] + '\",\"' + productTypes['preview'] + '\"]','1464133')"
   ]
  },
  {
   "cell_type": "code",
   "execution_count": null,
   "metadata": {},
   "outputs": [],
   "source": [
    "def submitBulk(apiKey):\n",
    "    payload = {\"jsonRequest\" : '{\"apiKey\":\"' + apiKey+ '\"}'}\n",
    "    return requests.post(defaultUrl + operations['submitBulk'],data=payload).json()"
   ]
  },
  {
   "cell_type": "code",
   "execution_count": null,
   "metadata": {},
   "outputs": [],
   "source": [
    "submitBulk(\"db000f703052452ab43057bf0b764807\")"
   ]
  },
  {
   "cell_type": "code",
   "execution_count": null,
   "metadata": {},
   "outputs": [],
   "source": [
    "def metadata(apiKey, entityIds, dataSetName = \"SENTINEL_2A\"):\n",
    "    payload = {\"jsonRequest\" : '{\"apiKey\":\"' + apiKey + '\",\"datasetName\":\"' + dataSetName + '\",\"entityIds\":' + entityIds + '}'}\n",
    "    return requests.post(defaultUrl + operations['metadata'],data=payload).json()"
   ]
  },
  {
   "cell_type": "code",
   "execution_count": null,
   "metadata": {},
   "outputs": [],
   "source": [
    "a = metadata('d64e107c95c2457ea498cb20752f3d83','[\"1338121\"]')\n",
    "a"
   ]
  },
  {
   "cell_type": "code",
   "execution_count": null,
   "metadata": {},
   "outputs": [],
   "source": [
    "print(a['data'][0]['spatialFootprint'])\n",
    "print(a['data'][0]['sceneBounds'])\n",
    "for metaDataField in a['data'][0]['metadataFields']:\n",
    "    if metaDataField['fieldName'] == 'Cloud Cover':\n",
    "        print(metaDataField['value'])\n",
    "        break"
   ]
  },
  {
   "cell_type": "code",
   "execution_count": null,
   "metadata": {},
   "outputs": [],
   "source": [
    "def sceneSearch(apiKey,point,radius,startDate,endDate,\n",
    "                dataSetName = \"SENTINEL_2A\", months = None,\n",
    "                includeUnknownCloudCover = True,maxResults = 1000, sortOrder = 'ASC'):\n",
    "    ll, ur = calculateMBR(point,radius)\n",
    "    payload = {\"jsonRequest\" : '{\"apiKey\":\"' + apiKey + '\",\"datasetName\":\"' + dataSetName + '\",\"spatialFilter\":{\"filterType\":\"mbr\",\"lowerLeft\":{\"latitude\":\"' + str(ll[0]) + '\",\"longitude\":\"' + str(ll[1]) + '\"},\"upperRight\":{\"latitude\":\"' + str(ur[0]) + '\",\"longitude\":\"' + str(ur[1]) + '\"}},\"temporalFilter\":{\"startDate\":\"' + startDate + '\",\"endDate\":\"' + endDate + '\"},'+( '' if months is None else '\"months\":' + str(months) + ',') + '\"includeUnknownCloudCover\":' + str(includeUnknownCloudCover).lower() + ',\"maxResults\":\"' + str(maxResults) + '\",\"sortOrder\":\"' + sortOrder + '\"}'}\n",
    "    response = requests.post(defaultUrl + operations['search'], data = payload)\n",
    "    return response.json()"
   ]
  },
  {
   "cell_type": "code",
   "execution_count": null,
   "metadata": {},
   "outputs": [],
   "source": [
    "def getScenesDict():\n",
    "    if not os.path.isfile('scenes.json'):\n",
    "        return json.loads('{}')\n",
    "    else:\n",
    "        with open('scenes.json','r') as jsonFile:\n",
    "            return json.load(jsonFile)"
   ]
  },
  {
   "cell_type": "code",
   "execution_count": null,
   "metadata": {},
   "outputs": [],
   "source": [
    "def downloadFile(downloadInfo,apiKey,datasetName = \"SENTINEL_2A\",productType = \"STANDARD\"):\n",
    "    payload = {\"jsonRequest\" : '{\"apiKey\":\"' + apiKey + '\",\"datasetName\":\"' + datasetName + '\",\"entityIds\":\"' + downloadInfo[downloadIndexes['entityId']] + '\",\"products\":\"' + productType + '\"}'}\n",
    "    with requests.post(defaultUrl + operations['download'], data=payload) as download:\n",
    "        downloadLink = (download.json())['data'][0]['url']\n",
    "        with requests.get(downloadLink, stream=True, allow_redirects=True) as request:\n",
    "            #lança exceção caso request de errado\n",
    "            request.raise_for_status()\n",
    "            filename = request.headers['content-disposition'].split(\"=\")[1]\n",
    "            print(\"Baixando: \" + filename)\n",
    "            with open(filename, 'wb') as file:\n",
    "                for chunk in request.iter_content(chunk_size=1024): \n",
    "                    file.write(chunk)\n",
    "    return (True,downloadLink);"
   ]
  },
  {
   "cell_type": "code",
   "execution_count": null,
   "metadata": {},
   "outputs": [],
   "source": [
    "def downloadBulk(lat,lon,radius,startDate,endDate,usr,psw,batchSize,productType = \"STANDARD\", maxDownload = 1, driverPath = '/PATH_REPO/DesmateSeletivo/chromedriver',downloadPath ='/PATH_REPO/DesmateSeletivo'):\n",
    "    while (apiKey := login(usr,psw)) == None:\n",
    "           print(\"Erro ao logar tentando novamente\")\n",
    "    scenes = sceneSearch(apiKey,(lat,lon),radius,startDate,endDate)\n",
    "    scenesJsonDict = getScenesDict()\n",
    "    downloadList = []\n",
    "    pointStr = f'({str(lat)},{str(lon)})'\n",
    "    for foundScene in scenes['data']['results']:\n",
    "        if foundScene['displayId'] in scenesJsonDict.keys():\n",
    "            print(\"A imagem \" + foundScene['displayId'] + \" já foi baixada!\")\n",
    "            if pointStr not in scenesJsonDict[foundScene['displayId']]['points']:\n",
    "                print(\"Registrando o novo ponto: \" + pointStr)\n",
    "                scenesJsonDict[foundScene['displayId']]['points'].append(pointStr)\n",
    "        else:\n",
    "            downloadList.append((foundScene['displayId'],foundScene['downloadUrl'],foundScene['entityId'],foundScene['startTime'],foundScene['endTime']))\n",
    "    print(\"Total de imagens para baixar:\", len(downloadList))\n",
    "    for download in downloadList:\n",
    "            print(download[downloadIndexes['displayId']])\n",
    "            print(\"Adicionando para  bulk order:\")\n",
    "            updateBulk(apiKey,'[\"' +productTypes['full'] + '\",\"' + productTypes['preview'] + '\"]',download[downloadIndexes['entityId']])\n",
    "            print(\"Obtendo metadados:\")\n",
    "            metaData = metadata(apiKey,'[\"' + download[downloadIndexes['entityId']] + '\"]')\n",
    "            #print(\"metadata result: \",metaData)\n",
    "            cloudCover = None\n",
    "            for metaDataField in metaData['data'][0]['metadataFields']:\n",
    "                if metaDataField['fieldName'] == 'Cloud Cover':\n",
    "                    cloudCover = metaDataField['value']\n",
    "                    break\n",
    "            scenesJsonDict[download[downloadIndexes['displayId']]] = {\"points\" : [pointStr],\n",
    "                                           \"startTime\" : download[downloadIndexes['startTime']],\n",
    "                                           \"endTime\" : download[downloadIndexes['endTime']],\n",
    "                                           \"cloudCover\" : cloudCover,\n",
    "                                           \"sceneBounds\" : metaData['data'][0]['sceneBounds'],\n",
    "                                           \"spatialFootprint\" : metaData['data'][0]['spatialFootprint'], \n",
    "                                           \"entityId\" : download[downloadIndexes['entityId']],                         \n",
    "                                           \"downloadUrl\" : download[downloadIndexes['downloadUrl']],\n",
    "                                          }\n",
    "            batchSize += 1\n",
    "    with open('scenes.json','w+') as jsonFile:\n",
    "        json.dump(scenesJsonDict,jsonFile)\n",
    "    logout(apiKey)\n",
    "    return batchSize"
   ]
  },
  {
   "cell_type": "code",
   "execution_count": null,
   "metadata": {
    "scrolled": true
   },
   "outputs": [],
   "source": [
    "downloadBulk(-10.463815 ,-58.537751, 500,'2016-01-01','2017-01-01',username,senha, productTypes['preview'])"
   ]
  },
  {
   "cell_type": "code",
   "execution_count": null,
   "metadata": {
    "scrolled": true
   },
   "outputs": [],
   "source": [
    "downloadBulk(-10.463815 ,-58.537751, 500,'2016-01-01','2016-05-01',username,senha, productType=productTypes['preview'])"
   ]
  },
  {
   "cell_type": "code",
   "execution_count": null,
   "metadata": {
    "scrolled": true
   },
   "outputs": [],
   "source": [
    "downloadBulk(-10.463815 ,-58.537751, 500,'2016-01-01','2016-01-07',username,senha, productTypes['preview'])"
   ]
  },
  {
   "cell_type": "code",
   "execution_count": null,
   "metadata": {},
   "outputs": [],
   "source": [
    "downloadBulk(-10.463815 ,-58.537751, 500,'2017-07-01','2017-09-30',username,senha, productTypes['preview'])"
   ]
  },
  {
   "cell_type": "code",
   "execution_count": null,
   "metadata": {},
   "outputs": [],
   "source": [
    "def getSceneSearchDisplayIds(apiKey,point,radius,startDate,endDate,\n",
    "                dataSetName = \"SENTINEL_2A\", months = None,\n",
    "                includeUnknownCloudCover = True,maxResults = 1000, sortOrder = 'ASC'):\n",
    "    ll, ur = calculateMBR(point,radius)\n",
    "    payload = {\"jsonRequest\" : '{\"apiKey\":\"' + apiKey + '\",\"datasetName\":\"' + dataSetName + '\",\"spatialFilter\":{\"filterType\":\"mbr\",\"lowerLeft\":{\"latitude\":\"' + str(ll[0]) + '\",\"longitude\":\"' + str(ll[1]) + '\"},\"upperRight\":{\"latitude\":\"' + str(ur[0]) + '\",\"longitude\":\"' + str(ur[1]) + '\"}},\"temporalFilter\":{\"startDate\":\"' + startDate + '\",\"endDate\":\"' + endDate + '\"},'+( '' if months is None else '\"months\":' + str(months) + ',') + '\"includeUnknownCloudCover\":' + str(includeUnknownCloudCover).lower() + ',\"maxResults\":\"' + str(maxResults) + '\",\"sortOrder\":\"' + sortOrder + '\"}'}\n",
    "    response = requests.post(defaultUrl + operations['search'], data = payload)\n",
    "    displayIdList = []\n",
    "    for scene in response.json()['data']['results']:\n",
    "        displayIdList.append(scene['displayId'])\n",
    "    return displayIdList"
   ]
  },
  {
   "cell_type": "code",
   "execution_count": null,
   "metadata": {},
   "outputs": [],
   "source": [
    "with open('Coordenadas desmatamento 2017.csv', mode='r') as original, open('CoordeanadasComNome2017.csv', mode='w') as new:\n",
    "    reader = csv.reader(original)\n",
    "    apiKey = login(username,senha)\n",
    "    writer = csv.writer(new)\n",
    "    header = next(reader)\n",
    "    header[1] = \"Longitude\"\n",
    "    header[2] = \"Latitude\"\n",
    "    print(header,type(header))\n",
    "    header.append('displayId')\n",
    "    header.append('displayIdList')\n",
    "    writer.writerow(header)\n",
    "    rowN = 0;\n",
    "    for row in reader:\n",
    "        listDisplayId = getSceneSearchDisplayIds(apiKey,(float(row[2]),float(row[1])),60,'2017-07-01','2017-09-30')\n",
    "        row.append(listDisplayId[-1])\n",
    "        row.append(listDisplayId)\n",
    "        writer.writerow(row)\n",
    "        rowN += 1\n",
    "        print(rowN)\n",
    "        if rowN > 1000:\n",
    "            apiKey = login(username,senha)\n",
    "            rowN = 0"
   ]
  },
  {
   "cell_type": "code",
   "execution_count": null,
   "metadata": {},
   "outputs": [],
   "source": [
    "with open('Coordenadas desmatamento 2017.csv', mode='r') as original, open('CoordeanadasComNome2017.csv', mode='a', newline='') as new:\n",
    "    reader = csv.reader(original)\n",
    "    apiKey = login(username,senha)\n",
    "    writer = csv.writer(new)\n",
    "    rowN = 0;\n",
    "    for i in range(10406):\n",
    "        next(reader)\n",
    "    for row in reader:\n",
    "        listDisplayId = getSceneSearchDisplayIds(apiKey,(float(row[2]),float(row[1])),60,'2017-07-01','2017-09-30')\n",
    "        row.append(listDisplayId[-1])\n",
    "        row.append(listDisplayId)\n",
    "        writer.writerow(row)\n",
    "        rowN += 1\n",
    "        print(rowN)\n",
    "        if rowN > 1000:\n",
    "            apiKey = login(username,senha)\n",
    "            rowN = 0       "
   ]
  },
  {
   "cell_type": "code",
   "execution_count": null,
   "metadata": {},
   "outputs": [],
   "source": [
    "apiKey = 'be73bcb7be344d5face235f45e14d0c1'\n",
    "lat = -9.504953\n",
    "lon =\n",
    "getSceneSearchDisplayIds(apiKey,(float(row[2]),float(row[1])),60,'2017-07-01','2017-09-30')"
   ]
  },
  {
   "cell_type": "code",
   "execution_count": null,
   "metadata": {},
   "outputs": [],
   "source": [
    "with open('Coordenadas desmatamento 2017.csv', mode='r') as original, open('CoordeanadasComNome2017.csv', mode='a', newline='') as new:\n",
    "    reader = csv.reader(original)\n",
    "    apiKey = login(username,senha)\n",
    "    writer = csv.writer(new)\n",
    "    rowN = 0;\n",
    "    for i in range(10406):\n",
    "        next(reader)\n",
    "    for row in reader:\n",
    "        print(row)     "
   ]
  },
  {
   "cell_type": "code",
   "execution_count": null,
   "metadata": {},
   "outputs": [],
   "source": [
    "imgList = []\n",
    "with open('CoordeanadasComNome2017-final.csv', mode='r') as file:\n",
    "    reader = csv.reader(file)\n",
    "    next(reader)\n",
    "    for row in reader:\n",
    "        imgList.append(row[4])\n",
    "c = Counter(imgList)\n",
    "print(len(c))\n",
    "print(c)"
   ]
  },
  {
   "cell_type": "code",
   "execution_count": null,
   "metadata": {},
   "outputs": [],
   "source": [
    "imgList = []\n",
    "with open('CoordeanadasComNome2017-final.csv', mode='r') as file:\n",
    "    reader = csv.reader(file)\n",
    "    next(reader)\n",
    "    for row in reader:\n",
    "        imgList.append(row[5])\n",
    "c = Counter(imgList)\n",
    "print(len(c))\n",
    "print(c)"
   ]
  },
  {
   "cell_type": "code",
   "execution_count": null,
   "metadata": {},
   "outputs": [],
   "source": [
    "imgNameList = ['L1C_T21LTK_A010732_20170712T142431', 'L1C_T20LRQ_A010732_20170712T142431', 'L1C_T21LTK_A010832_20170719T141344', 'L1C_T21LTK_A011118_20170808T141047', 'L1C_T21LTK_A011304_20170821T142038', 'L1C_T20LRQ_A011304_20170821T142038', 'L1C_T21LTK_A011590_20170910T142035', 'L1C_T20LRQ_A011590_20170910T142035', 'L1C_T21LTK_A011690_20170917T141042', 'L1C_T20LRQ_A011876_20170930T142034', 'L1C_T21LTK_A011876_20170930T142034']\n",
    "pointsByImage = dict()\n",
    "for img in imgNameList:\n",
    "    pointsByImage[img] = []\n",
    "with open('CoordeanadasComNome2017-final.csv', mode='r') as file:\n",
    "    reader = csv.reader(file)\n",
    "    next(reader)\n",
    "    for row in reader:\n",
    "        rowList = eval(row[5])\n",
    "        for imgName in rowList:\n",
    "            if imgName in imgNameList:\n",
    "                pointsByImage[imgName].append((row[1],row[2]))\n",
    "#print(len(pointsByImage))\n",
    "#print(pointsByImage)\n",
    "#pointsByImage\n",
    "for img in pointsByImage:\n",
    "    print(len(img))"
   ]
  },
  {
   "cell_type": "code",
   "execution_count": null,
   "metadata": {},
   "outputs": [],
   "source": [
    "print(len(pointsByImage['L1C_T21LTK_A010732_20170712T142431']))\n",
    "print(pointsByImage['L1C_T21LTK_A010732_20170712T142431'])"
   ]
  },
  {
   "cell_type": "code",
   "execution_count": null,
   "metadata": {},
   "outputs": [],
   "source": [
    "points = set()\n",
    "for i in pointsByImage.values():\n",
    "    for p in i:\n",
    "        points.add(p)"
   ]
  },
  {
   "cell_type": "code",
   "execution_count": null,
   "metadata": {},
   "outputs": [],
   "source": [
    "len(points)"
   ]
  },
  {
   "cell_type": "code",
   "execution_count": null,
   "metadata": {},
   "outputs": [],
   "source": [
    "imgFullList = set()\n",
    "with open('CoordeanadasComNome2017-final.csv', mode='r') as file:\n",
    "    reader = csv.reader(file)\n",
    "    next(reader)\n",
    "    for row in reader:\n",
    "        rowList = eval(row[5])\n",
    "        for img in rowList:\n",
    "            imgFullList.add(img)\n",
    "print(len(imgFullList))"
   ]
  },
  {
   "cell_type": "code",
   "execution_count": null,
   "metadata": {},
   "outputs": [],
   "source": [
    "line = 0\n",
    "mean = 0\n",
    "with open('CoordeanadasComNome2017-final.csv', mode='r') as file:\n",
    "    reader = csv.reader(file)\n",
    "    next(reader)\n",
    "    for row in reader:\n",
    "        rowList = eval(row[5])\n",
    "        mean += len(rowList)\n",
    "        line +=1\n",
    "print(mean/line)"
   ]
  },
  {
   "cell_type": "code",
   "execution_count": null,
   "metadata": {},
   "outputs": [],
   "source": [
    "def idLookup(apiKey,idList,inputField = 'displayId',datasetName = \"SENTINEL_2A\"):\n",
    "    payload = {\"jsonRequest\" : '{\"apiKey\":\"' + apiKey + '\",\"datasetName\":\"' + datasetName + '\",\"idList\":\"' + idList + '\",\"inputField\":\"' + inputField + '\"}'}\n",
    "    return requests.post(defaultUrl + operations['idlookup'], data = payload).json()['data'][idList]\n",
    "        "
   ]
  },
  {
   "cell_type": "code",
   "execution_count": null,
   "metadata": {},
   "outputs": [],
   "source": [
    "def getEntityId(displayId,login,usr,datasetName = ):\n",
    "    payload = {\"jsonRequest\" : '{\"apiKey\":\"' + apiKey + '\",\"datasetName\":\"' + datasetName + '\",\"entityIds\":\"' + downloadInfo[downloadIndexes['entityId']] + '\",\"products\":\"' + productType + '\"}'}"
   ]
  },
  {
   "cell_type": "code",
   "execution_count": null,
   "metadata": {},
   "outputs": [],
   "source": [
    "def downloadByName(nameList,usr,pwd,productType = \"STANDARD\",datasetName = \"SENTINEL_2A\"):\n",
    "    for displayId in nameList:\n",
    "        apiKey = login(usr,pwd)\n",
    "        entityId = idLookup(apiKey,displayId)\n",
    "        payload = {\"jsonRequest\" : '{\"apiKey\":\"' + apiKey + '\",\"datasetName\":\"' + datasetName + '\",\"entityIds\":\"' + entityId + '\",\"products\":\"' + productType + '\"}'}\n",
    "        with requests.post(defaultUrl + operations['download'], data=payload) as download:\n",
    "            downloadLink = (download.json())['data'][0]['url']\n",
    "            with requests.get(downloadLink, stream=True, allow_redirects=True) as request:\n",
    "                #lança exceção caso request de errado\n",
    "                request.raise_for_status()\n",
    "                filename = request.headers['content-disposition'].split(\"=\")[1]\n",
    "                print(\"Baixando: \" + filename)\n",
    "                with open(filename, 'wb') as file:\n",
    "                    for chunk in request.iter_content(chunk_size=1024): \n",
    "                        file.write(chunk)"
   ]
  },
  {
   "cell_type": "code",
   "execution_count": null,
   "metadata": {},
   "outputs": [],
   "source": [
    "idLookup('bfe578d3be5140579115d00cbdf8d400','L1C_T21LXC_A001666_20170701T140052')"
   ]
  },
  {
   "cell_type": "code",
   "execution_count": null,
   "metadata": {},
   "outputs": [],
   "source": [
    "downloadByName(['L1C_T21LXC_A001666_20170701T140052'],username,senha)"
   ]
  },
  {
   "cell_type": "code",
   "execution_count": null,
   "metadata": {},
   "outputs": [],
   "source": [
    "orderSize = 20\n",
    "actualSize = 0\n",
    "with open('CoordeanadasComNome2017-final.csv', mode='r') as file:\n",
    "    reader = csv.reader(file)\n",
    "    next(reader)\n",
    "    next(reader)\n",
    "    next(reader)\n",
    "    for row in reader:\n",
    "        print(\"Linnha \" + row[0])\n",
    "        if (actualSize := downloadBulk(float(row[2]),float(row[1]), 200,'2017-07-01','2017-09-30',username,senha,actualSize)) > orderSize:\n",
    "                break\n",
    "apiKey = login(username,senha)\n",
    "submitBulk(apiKey)\n",
    "logout(apiKey)"
   ]
  },
  {
   "cell_type": "code",
   "execution_count": null,
   "metadata": {},
   "outputs": [],
   "source": [
    "orderSize = 10\n",
    "actualSize = 0\n",
    "with open('CoordeanadasComNome2017-final.csv', mode='r') as file:\n",
    "    reader = csv.reader(file)\n",
    "    next(reader)\n",
    "    next(reader)\n",
    "    next(reader)\n",
    "    for row in reader:\n",
    "        print(\"Linnha \" + row[0])\n",
    "        if (actualSize := downloadBulk(float(row[2]),float(row[1]), 200,'2017-07-01','2017-09-30',username,senha,actualSize)) > orderSize:\n",
    "                break\n",
    "apiKey = login(username,senha)\n",
    "submitBulk(apiKey)\n",
    "logout(apiKey)"
   ]
  },
  {
   "cell_type": "code",
   "execution_count": null,
   "metadata": {
    "scrolled": true
   },
   "outputs": [],
   "source": [
    "orderSize = 15\n",
    "actualSize = 0\n",
    "lines = 200\n",
    "with open('CoordeanadasComNome2017-final.csv', mode='r') as file:\n",
    "    reader = csv.reader(file)\n",
    "    next(reader)\n",
    "    for i in range(8936):\n",
    "        next(reader)\n",
    "    for row in reader:\n",
    "        print(\"Linnha \" + row[0])\n",
    "        actualSize = downloadBulk(float(row[2]),float(row[1]), 200,'2017-07-01','2017-09-30',username,senha,actualSize)\n",
    "        lines -= 1\n",
    "        if lines == 0:\n",
    "            break\n",
    "if actualSize > 0:\n",
    "    apiKey = login(username,senha)\n",
    "    submitBulk(apiKey)\n",
    "    logout(apiKey)"
   ]
  },
  {
   "cell_type": "code",
   "execution_count": null,
   "metadata": {},
   "outputs": [],
   "source": [
    "apiKey = login(username,senha)\n",
    "submitBulk(apiKey)\n",
    "logout(apiKey)"
   ]
  },
  {
   "cell_type": "code",
   "execution_count": null,
   "metadata": {},
   "outputs": [],
   "source": [
    "actualSize"
   ]
  },
  {
   "cell_type": "code",
   "execution_count": null,
   "metadata": {},
   "outputs": [],
   "source": []
  },
  {
   "cell_type": "code",
   "execution_count": null,
   "metadata": {},
   "outputs": [],
   "source": [
    "orderSize = 20\n",
    "actualSize = 0\n",
    "with open('CoordeanadasComNome2017-final.csv', mode='r') as file:\n",
    "    reader = csv.reader(file)\n",
    "    next(reader)\n",
    "    for i in range(736):\n",
    "        next(reader)\n",
    "    for row in reader:\n",
    "        print(\"Linnha \" + row[0])"
   ]
  },
  {
   "cell_type": "code",
   "execution_count": null,
   "metadata": {},
   "outputs": [],
   "source": [
    "with open('/run/media/SEAGATE 1TB/ImagensSentinel2/md5sumNovo.txt') as o, \\\n",
    "     open('/run/media/SEAGATE 1TB/ImagensSentinel2/md5sumNovoHd.txt') as h :\n",
    "    i = 0\n",
    "    for line in o:\n",
    "        i +=1\n",
    "        fName = line.split('  ')[1][-39:]\n",
    "        #print('XXXX' + fName)\n",
    "        for lineH in h:\n",
    "            fNameH = lineH.split('  ')[1][-39:]\n",
    "            #print(fName + '==' + fNameH)\n",
    "            if fName == fNameH:\n",
    "                #print(line.split('  ')[0] + '==' + lineH.split('  ')[0])\n",
    "                if line.split('  ')[0] != lineH.split('  ')[0]:\n",
    "                    print(fName)\n",
    "                    print(line + \"!=\" + lineH)\n",
    "        h.seek(0)\n",
    "    print(i)"
   ]
  },
  {
   "cell_type": "code",
   "execution_count": 2,
   "metadata": {},
   "outputs": [],
   "source": [
    "import json"
   ]
  },
  {
   "cell_type": "code",
   "execution_count": 3,
   "metadata": {},
   "outputs": [
    {
     "name": "stdout",
     "output_type": "stream",
     "text": [
      "{'points': ['(-15.904708,-56.000072)', '(-15.416766,-55.988959)', '(-15.437137,-55.914913)', '(-15.468088,-55.897105)', '(-15.535255,-55.968867)', '(-15.564023,-55.94867)', '(-15.568054,-55.882489)', '(-15.588563,-55.870227)', '(-15.598453,-55.881318)', '(-15.611397,-55.846842)', '(-15.605094,-55.847479)', '(-15.548029,-55.817518)', '(-15.555438,-55.815007)', '(-15.546446,-55.818965)', '(-15.581409,-55.697462)', '(-15.574826,-55.668933)', '(-15.56331,-55.668027)', '(-15.566888,-55.664664)', '(-15.613048,-55.53715)', '(-15.613307,-55.549523)', '(-15.597531,-55.56656)', '(-15.59311,-55.563956)', '(-15.615546,-55.565231)', '(-15.667473,-55.595501)', '(-15.58971,-55.802375)', '(-15.597522,-55.802654)', '(-15.598543,-55.811242)', '(-15.617152,-55.819377)', '(-15.619147,-55.820295)', '(-15.643742,-55.825754)', '(-15.773021,-55.85652)', '(-15.784799,-55.944215)', '(-15.778259,-55.750852)', '(-15.806479,-55.653043)', '(-15.891014,-55.602907)', '(-15.896569,-55.587782)', '(-15.90922,-55.598652)', '(-15.91873,-55.610392)', '(-15.920135,-55.487674)', '(-15.92862,-55.49752)', '(-15.92663,-55.496961)', '(-15.999171,-55.58297)', '(-15.998311,-55.590641)', '(-15.943442,-55.572977)', '(-15.96164,-55.641967)', '(-15.967193,-55.6401)', '(-15.963152,-55.623796)', '(-15.954632,-55.759573)', '(-15.919924,-55.994657)', '(-15.977575,-55.621549)', '(-15.995931,-55.612158)', '(-15.533056,-55.065579)', '(-15.61991,-55.130941)', '(-15.645629,-55.449266)', '(-15.647086,-55.445094)', '(-15.690571,-55.080742)', '(-15.629526,-55.10794)', '(-15.635368,-55.103492)', '(-15.788169,-55.453161)', '(-15.861953,-55.469197)', '(-15.862208,-55.463749)', '(-15.863271,-55.459891)', '(-16.003647,-55.479823)', '(-16.001051,-55.486423)', '(-15.979174,-55.486524)', '(-15.99569,-55.479205)', '(-16.01397,-55.653427)', '(-16.016717,-55.639892)', '(-16.048687,-55.554544)', '(-16.045401,-55.554953)', '(-16.085748,-55.589362)', '(-16.029155,-55.53687)', '(-16.027301,-55.53169)', '(-16.053141,-55.524101)', '(-16.052016,-55.509841)', '(-16.043018,-55.538889)', '(-16.068411,-55.511369)', '(-16.106552,-55.993876)', '(-16.103821,-55.515311)', '(-16.118628,-55.524514)', '(-16.141003,-55.666114)', '(-16.074493,-55.515238)', '(-16.071182,-55.513841)', '(-16.071694,-55.524164)', '(-16.074926,-55.525856)', '(-16.097122,-55.515037)', '(-16.181398,-55.680709)', '(-16.207955,-55.719409)', '(-16.186219,-55.709701)', '(-16.206682,-55.715377)', '(-16.209933,-55.980347)', '(-16.262755,-55.741916)', '(-16.264838,-55.751086)', '(-16.34756,-55.830072)', '(-16.043389,-55.458895)', '(-16.043482,-55.429442)', '(-16.03436,-55.424752)', '(-16.046542,-55.431954)', '(-16.048481,-55.429693)', '(-16.078141,-55.455525)', '(-16.082607,-55.452897)', '(-16.070136,-55.449199)', '(-16.083543,-55.426891)', '(-16.071542,-55.48697)', '(-16.089873,-55.451527)', '(-16.262036,-55.042362)', '(-16.262695,-55.038261)', '(-16.262395,-55.035218)', '(-16.347372,-55.456116)', '(-16.333055,-55.467873)', '(-16.323639,-55.486179)', '(-16.341694,-55.420827)', '(-16.350272,-55.414798)', '(-15.383029,-55.280438)', '(-15.397549,-55.805859)', '(-15.433917,-55.969262)', '(-15.431756,-55.491136)', '(-15.433448,-55.492937)', '(-15.433892,-55.491544)', '(-15.431626,-55.493742)', '(-15.447173,-55.331061)', '(-15.484928,-55.965294)', '(-15.474617,-55.908284)', '(-15.580225,-55.676715)', '(-15.549695,-55.767128)', '(-15.55125,-55.765727)', '(-15.549463,-55.7611)', '(-15.554366,-55.760141)', '(-15.544895,-55.758752)', '(-15.543699,-55.746005)', '(-15.543306,-55.745591)', '(-15.554593,-55.755881)', '(-15.55159,-55.755773)', '(-15.55051,-55.742922)', '(-15.551813,-55.740455)', '(-15.551504,-55.740005)', '(-15.532649,-55.754194)', '(-15.528125,-55.753483)', '(-15.579802,-55.798094)', '(-15.569177,-55.861763)', '(-15.54393,-55.914945)', '(-15.574346,-55.918206)', '(-15.594804,-55.946796)', '(-15.589202,-55.888167)', '(-15.590937,-55.880751)', '(-15.602695,-55.879435)', '(-15.609762,-55.868593)', '(-15.619873,-55.797135)', '(-15.615135,-55.539652)', '(-15.654467,-55.423938)', '(-15.665765,-55.469327)', '(-15.662859,-55.465459)', '(-15.665009,-55.464904)', '(-15.664067,-55.452395)', '(-15.66374,-55.44949)', '(-15.654052,-55.620098)', '(-15.683243,-55.998667)', '(-15.688884,-55.995746)', '(-15.689569,-56.005986)', '(-15.692251,-56.005816)', '(-15.769516,-55.75171)', '(-15.772877,-55.597552)', '(-15.737522,-55.543282)', '(-15.739486,-55.511148)', '(-15.777852,-55.448202)', '(-15.77787,-55.444176)', '(-15.776592,-55.440305)', '(-15.76959,-55.440239)', '(-15.785321,-55.463836)', '(-15.784446,-55.606608)', '(-15.782587,-55.602074)', '(-15.786637,-55.747917)', '(-15.85316,-55.909215)', '(-15.856195,-55.906424)', '(-15.890907,-55.803172)', '(-15.968124,-55.762713)', '(-15.99397,-55.677063)', '(-15.966859,-55.6415)', '(-15.987814,-55.563792)', '(-15.992863,-55.570904)', '(-16.005097,-55.605457)', '(-16.008636,-55.601402)', '(-16.009094,-55.602843)', '(-16.005599,-55.588821)', '(-15.991698,-55.542136)', '(-15.992801,-55.54667)', '(-15.987632,-55.541804)', '(-15.970243,-55.521903)', '(-15.974953,-55.519172)', '(-15.985056,-55.508645)', '(-16.018393,-55.528152)', '(-15.990667,-55.488231)', '(-16.054193,-55.41835)', '(-16.057167,-55.433312)', '(-16.061039,-55.420095)', '(-16.05501,-55.431701)', '(-16.045012,-55.441848)', '(-16.040503,-55.462228)', '(-16.056692,-55.555365)', '(-16.033926,-55.558261)', '(-16.131725,-55.762632)', '(-16.096546,-55.726565)', '(-16.147245,-55.68747)', '(-16.105929,-55.446646)', '(-16.102696,-55.441773)', '(-16.099626,-55.448515)', '(-16.098711,-55.456197)', '(-16.268318,-55.973765)', '(-16.266462,-55.973693)', '(-16.273728,-55.549015)', '(-16.263101,-55.533401)', '(-16.350256,-55.416995)', '(-16.351335,-55.415366)', '(-16.340631,-55.431617)', '(-16.344598,-55.425154)', '(-16.335564,-55.439202)', '(-16.33813,-55.43513)', '(-16.334278,-55.442683)', '(-16.319514,-55.454995)', '(-16.298789,-55.533936)', '(-16.301612,-55.536522)', '(-16.316112,-55.527938)', '(-16.318018,-55.526909)', '(-16.305519,-55.547367)', '(-16.288443,-55.571043)', '(-16.304977,-55.557223)', '(-16.282666,-55.575205)', '(-16.282579,-55.779718)', '(-16.285942,-55.775375)', '(-16.282214,-55.785496)', '(-16.288678,-55.796642)', '(-15.836607,-55.11268)', '(-16.190529,-55.054783)', '(-16.31199,-55.359294)', '(-15.674273,-55.095709)', '(-15.673881,-55.099031)', '(-15.820398,-55.054506)', '(-15.818133,-55.040214)', '(-15.829599,-55.048954)', '(-15.818849,-55.049417)', '(-15.816455,-55.049533)'], 'startTime': '2017-07-01', 'endTime': '2017-07-01', 'cloudCover': '0', 'sceneBounds': '-56.0682254,-16.3671642,-55.0358669,-15.3680206', 'spatialFootprint': {'type': 'Polygon', 'coordinates': [[[-56.0636531, -16.3671642], [-55.0358669, -16.3600865], [-55.0454522, -15.3680206], [-56.0682254, -15.3746479], [-56.0636531, -16.3671642]]]}, 'entityId': '3022286', 'downloadUrl': 'https://earthexplorer.usgs.gov/download/external/options/SENTINEL_2A/3022286/INVSVC/'}\n"
     ]
    }
   ],
   "source": [
    "with open('scenes.json','r') as jsonFile:\n",
    "    j =json.load(jsonFile)\n",
    "    print(j[\"L1C_T21LXC_A001666_20170701T140052\"])"
   ]
  },
  {
   "cell_type": "code",
   "execution_count": 5,
   "metadata": {},
   "outputs": [
    {
     "name": "stdout",
     "output_type": "stream",
     "text": [
      "1202 = 1202\n",
      "1330 != 1202\n",
      "1330 != 1202\n",
      "1330 = 1330\n",
      "1330 = 1330\n"
     ]
    }
   ],
   "source": [
    "import rasterio\n",
    "#data link: https://earthexplorer.usgs.gov/download/external/options/SENTINEL_2A/3022286/INVSVC/\n",
    "pathToImgFolder = \"D:\\RSDD\\ImagensSentinel2\\data\\\\\"\n",
    "pathData = pathToImgFolder + \"L1C_T21LXC_A001666_20170701T140052\\S2B_MSIL1C_20170701T140049_N0205_R067_T21LXC_20170701T140052.SAFE\\GRANULE\\L1C_T21LXC_A001666_20170701T140052\\IMG_DATA\\T21LXC_20170701T140049_B01.jp2\" \n",
    "boudingBoxCoordinates = (606859.0750363453, 8241169.269917269, 607219.0750363453, 8241529.269917269)\n",
    "points = [(607014.0750363453,8241374.26991727),(607024.0750363444,8241374.26991727),\\\n",
    "          (607034.0750363453,8241374.26991727),(607044.0750363453,8241374.26991727),\\\n",
    "          (607054.0750363442,8241374.26991727)]\n",
    "with rasterio.open(pathData) as img:\n",
    "    bandWindow = rasterio.windows.from_bounds(*boudingBoxCoordinates, img.transform)\n",
    "    winTransform = rasterio.windows.transform(bandWindow,img.transform)\n",
    "    bandData = img.read(1, window = bandWindow)\n",
    "    allData = img.read(1)\n",
    "    for point in points:\n",
    "        rBand,cBand = rasterio.transform.rowcol(winTransform,point[0],point[1])\n",
    "        rFull,cFull = img.index(point[0],point[1])\n",
    "        bandVal = bandData[rBand,cBand]\n",
    "        fullVal = allData[rFull,cFull]\n",
    "        print(f\"{fullVal} {'=' if bandVal == fullVal else '!='} {bandVal}\")"
   ]
  },
  {
   "cell_type": "code",
   "execution_count": null,
   "metadata": {},
   "outputs": [],
   "source": []
  }
 ],
 "metadata": {
  "kernelspec": {
   "display_name": "Python 3",
   "language": "python",
   "name": "python3"
  },
  "language_info": {
   "codemirror_mode": {
    "name": "ipython",
    "version": 3
   },
   "file_extension": ".py",
   "mimetype": "text/x-python",
   "name": "python",
   "nbconvert_exporter": "python",
   "pygments_lexer": "ipython3",
   "version": "3.8.5"
  }
 },
 "nbformat": 4,
 "nbformat_minor": 2
}
