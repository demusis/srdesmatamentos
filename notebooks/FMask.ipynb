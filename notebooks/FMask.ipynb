{
 "cells": [
  {
   "cell_type": "code",
   "execution_count": null,
   "metadata": {},
   "outputs": [],
   "source": [
    "import os"
   ]
  },
  {
   "cell_type": "code",
   "execution_count": null,
   "metadata": {},
   "outputs": [],
   "source": [
    "#Gera as máscaras\n",
    "startAfter = \"L1C_T22LCJ_A011704_20170918T134207\"\n",
    "for entry in sorted(os.scandir(Paths.dataPath.value), key=lambda x: x.name):\n",
    "    if entry.is_dir():\n",
    "        if startAfter is not None:\n",
    "            if  startAfter == entry.name:\n",
    "                startAfter = None\n",
    "            continue\n",
    "        startfter = None\n",
    "        imgPath = Paths.dataPath.value + entry.name + '\\\\'\n",
    "        for subdir in os.scandir(imgPath):\n",
    "            if subdir.is_dir():\n",
    "                safePath = imgPath + subdir.name + '\\\\'\n",
    "                print(safePath)\n",
    "                cmdFmask = f\"fmask_sentinel2Stacked.py -o {imgPath}cloud.img --safedir {safePath}\"\n",
    "                os.system(cmdFmask)\n",
    "                cmdTif = f\"gdal_translate -of GTiff  {imgPath}cloud.img {imgPath}cloud.tif\"\n",
    "                os.system(cmdTif)"
   ]
  },
  {
   "cell_type": "code",
   "execution_count": null,
   "metadata": {},
   "outputs": [],
   "source": [
    "#Checa as mascaras\n",
    "for entry in sorted(os.scandir(Paths.dataPath.value), key=lambda x: x.name):\n",
    "    if entry.is_dir():\n",
    "        maskPath = Paths.dataPath.value + entry.name + '\\\\cloud.tif'\n",
    "        if not os.path.isfile(maskPath):\n",
    "            print(entry.name)"
   ]
  }
 ],
 "metadata": {
  "kernelspec": {
   "display_name": "Python 3",
   "language": "python",
   "name": "python3"
  },
  "language_info": {
   "codemirror_mode": {
    "name": "ipython",
    "version": 3
   },
   "file_extension": ".py",
   "mimetype": "text/x-python",
   "name": "python",
   "nbconvert_exporter": "python",
   "pygments_lexer": "ipython3",
   "version": "3.8.5"
  }
 },
 "nbformat": 4,
 "nbformat_minor": 4
}
